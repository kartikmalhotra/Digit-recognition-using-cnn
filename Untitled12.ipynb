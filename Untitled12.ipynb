{
  "nbformat": 4,
  "nbformat_minor": 0,
  "metadata": {
    "colab": {
      "name": "Untitled12.ipynb",
      "version": "0.3.2",
      "provenance": []
    },
    "kernelspec": {
      "name": "python3",
      "display_name": "Python 3"
    }
  },
  "cells": [
    {
      "cell_type": "code",
      "metadata": {
        "id": "YvVJtaU2j-S-",
        "colab_type": "code",
        "colab": {
          "base_uri": "https://localhost:8080/",
          "height": 476
        },
        "outputId": "0a13cfc0-bb13-4847-ec56-a7227b1af360"
      },
      "source": [
        "import numpy\n",
        "from keras.datasets import mnist\n",
        "from keras.models import Sequential\n",
        "from keras.layers import Dense\n",
        "from keras.layers import Dropout\n",
        "from keras.layers import Flatten\n",
        "from keras.layers.convolutional import Conv2D\n",
        "from keras.layers.convolutional import MaxPooling2D\n",
        "from keras.optimizers import Adam\n",
        "from keras.utils import np_utils\n",
        "\n",
        "(X_train, y_train), (X_test, y_test) = mnist.load_data()\n",
        "\n",
        "X_train = X_train.reshape(X_train.shape[0], X_train.shape[1], X_train.shape[2], 1).astype('float32')\n",
        "X_test = X_test.reshape(X_test.shape[0], X_test.shape[1], X_test.shape[2], 1).astype('float32')\n",
        "\n",
        "X_train/=255\n",
        "X_test/=255\n",
        "\n",
        "# one hot encode\n",
        "number_of_classes = 10\n",
        "y_train = np_utils.to_categorical(y_train, number_of_classes)\n",
        "y_test = np_utils.to_categorical(y_test, number_of_classes)\n",
        "\n",
        "# create model\n",
        "model = Sequential()\n",
        "model.add(Conv2D(32, (5, 5), input_shape=(X_train.shape[1], X_train.shape[2], 1), activation='relu'))\n",
        "model.add(MaxPooling2D(pool_size=(2, 2)))\n",
        "model.add(Conv2D(32, (3, 3), activation='relu'))\n",
        "model.add(MaxPooling2D(pool_size=(2, 2)))\n",
        "model.add(Dropout(0.2))\n",
        "model.add(Flatten())\n",
        "model.add(Dense(128, activation='relu'))\n",
        "model.add(Dense(number_of_classes, activation='softmax'))\n",
        "\n",
        "# Compile model\n",
        "model.compile(loss='categorical_crossentropy', optimizer=Adam(), metrics=['accuracy'])\n",
        "\n",
        "# Fit the model\n",
        "history=model.fit(X_train, y_train, validation_data=(X_test, y_test), epochs=12, batch_size=200)\n",
        "\n",
        "# Save the model\n",
        "model.save('kartik.h5')\n",
        "\n",
        "# Final evaluation of the model\n",
        "metrics = model.evaluate(X_test, y_test, verbose=0)\n",
        "print(\"Metrics(Test loss & Test Accuracy): \")\n",
        "print(metrics)"
      ],
      "execution_count": 19,
      "outputs": [
        {
          "output_type": "stream",
          "text": [
            "Train on 60000 samples, validate on 10000 samples\n",
            "Epoch 1/12\n",
            "60000/60000 [==============================] - 39s 649us/step - loss: 0.3065 - acc: 0.9095 - val_loss: 0.0747 - val_acc: 0.9762\n",
            "Epoch 2/12\n",
            "60000/60000 [==============================] - 38s 639us/step - loss: 0.0755 - acc: 0.9770 - val_loss: 0.0392 - val_acc: 0.9877\n",
            "Epoch 3/12\n",
            "60000/60000 [==============================] - 38s 638us/step - loss: 0.0526 - acc: 0.9839 - val_loss: 0.0345 - val_acc: 0.9892\n",
            "Epoch 4/12\n",
            "60000/60000 [==============================] - 38s 637us/step - loss: 0.0435 - acc: 0.9863 - val_loss: 0.0252 - val_acc: 0.9909\n",
            "Epoch 5/12\n",
            "60000/60000 [==============================] - 38s 639us/step - loss: 0.0358 - acc: 0.9892 - val_loss: 0.0249 - val_acc: 0.9921\n",
            "Epoch 6/12\n",
            "60000/60000 [==============================] - 38s 639us/step - loss: 0.0312 - acc: 0.9904 - val_loss: 0.0258 - val_acc: 0.9914\n",
            "Epoch 7/12\n",
            "60000/60000 [==============================] - 38s 635us/step - loss: 0.0272 - acc: 0.9913 - val_loss: 0.0260 - val_acc: 0.9911\n",
            "Epoch 8/12\n",
            "60000/60000 [==============================] - 38s 634us/step - loss: 0.0239 - acc: 0.9923 - val_loss: 0.0241 - val_acc: 0.9926\n",
            "Epoch 9/12\n",
            "60000/60000 [==============================] - 38s 633us/step - loss: 0.0221 - acc: 0.9926 - val_loss: 0.0188 - val_acc: 0.9941\n",
            "Epoch 10/12\n",
            "60000/60000 [==============================] - 38s 633us/step - loss: 0.0213 - acc: 0.9932 - val_loss: 0.0189 - val_acc: 0.9936\n",
            "Epoch 11/12\n",
            "60000/60000 [==============================] - 38s 634us/step - loss: 0.0176 - acc: 0.9943 - val_loss: 0.0246 - val_acc: 0.9916\n",
            "Epoch 12/12\n",
            "60000/60000 [==============================] - 38s 634us/step - loss: 0.0162 - acc: 0.9948 - val_loss: 0.0227 - val_acc: 0.9927\n",
            "Metrics(Test loss & Test Accuracy): \n",
            "[0.022702102853371615, 0.9927]\n"
          ],
          "name": "stdout"
        }
      ]
    },
    {
      "cell_type": "code",
      "metadata": {
        "id": "RZvBTpflngWL",
        "colab_type": "code",
        "colab": {
          "base_uri": "https://localhost:8080/",
          "height": 298
        },
        "outputId": "29155f46-69df-42e9-d6c5-1d83cb7d0180"
      },
      "source": [
        "import matplotlib.pyplot as plt\n",
        "acc = history.history['acc']\n",
        "val_acc = history.history['val_acc']\n",
        "loss = history.history['loss']\n",
        "val_loss = history.history['val_loss']\n",
        "\n",
        "epochs = range(len(acc))\n",
        "\n",
        "plt.plot(epochs, acc, 'r', label='Training accuracy')\n",
        "plt.plot(epochs, val_acc, 'b', label='Validation accuracy')\n",
        "plt.title('Training and validation accuracy')\n",
        "plt.legend(loc=0)\n",
        "plt.figure()\n",
        "\n",
        "\n",
        "plt.show()"
      ],
      "execution_count": 20,
      "outputs": [
        {
          "output_type": "display_data",
          "data": {
            "image/png": "[encoded data removed]",
            "text/plain": [
              "<Figure size 432x288 with 1 Axes>"
            ]
          },
          "metadata": {
            "tags": []
          }
        },
        {
          "output_type": "display_data",
          "data": {
            "text/plain": [
              "<Figure size 432x288 with 0 Axes>"
            ]
          },
          "metadata": {
            "tags": []
          }
        }
      ]
    },
    {
      "cell_type": "code",
      "metadata": {
        "id": "gphv2NhNqVyP",
        "colab_type": "code",
        "colab": {
          "base_uri": "https://localhost:8080/",
          "height": 221
        },
        "outputId": "2c9a59c9-be51-467b-c6cb-00a7839d4075"
      },
      "source": [
        "model.predict(X_test[:4])"
      ],
      "execution_count": 21,
      "outputs": [
        {
          "output_type": "execute_result",
          "data": {
            "text/plain": [
              "array([[7.6847077e-11, 5.5681909e-10, 1.2997053e-09, 9.4667412e-09,\n",
              "        8.6883160e-16, 2.3251630e-11, 9.6474717e-17, 9.9999988e-01,\n",
              "        1.5649475e-09, 1.6954604e-07],\n",
              "       [1.8015667e-09, 2.2397149e-08, 1.0000000e+00, 5.9140453e-12,\n",
              "        3.4553378e-14, 3.3691123e-15, 9.6481145e-10, 4.7187726e-10,\n",
              "        6.2938595e-12, 7.3695810e-14],\n",
              "       [2.4664844e-08, 9.9970645e-01, 1.1442761e-06, 1.4803013e-09,\n",
              "        2.9905079e-05, 3.4335830e-08, 1.0832115e-06, 2.5463718e-04,\n",
              "        6.2073327e-06, 4.3900809e-07],\n",
              "       [9.9999321e-01, 1.1174685e-11, 5.5218824e-10, 8.6167878e-11,\n",
              "        6.3423511e-10, 2.3897707e-08, 6.6657522e-06, 2.2210041e-11,\n",
              "        1.0321456e-08, 1.0444601e-07]], dtype=float32)"
            ]
          },
          "metadata": {
            "tags": []
          },
          "execution_count": 21
        }
      ]
    }
  ]
}